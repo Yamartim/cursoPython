{
 "cells": [
  {
   "attachments": {},
   "cell_type": "markdown",
   "metadata": {},
   "source": [
    "# Coleções python\n",
    "[Listas], (tuplas), {sets}, {dict: s}"
   ]
  },
  {
   "attachments": {},
   "cell_type": "markdown",
   "metadata": {},
   "source": [
    "## problema de mutabilidade de listas\n",
    "\n",
    "se vc nao passar um parametro o parametro padrao vai ser criado e cacheado fazendo a lista crescer toda vez q vc chama a função"
   ]
  },
  {
   "cell_type": "code",
   "execution_count": null,
   "metadata": {},
   "outputs": [],
   "source": [
    "def lista_sus(lista = []):\n",
    "    print(len(lista))\n",
    "    lista.append('nani?!')\n",
    "\n",
    "lista_sus()\n",
    "lista_sus()\n",
    "lista_sus()"
   ]
  },
  {
   "attachments": {},
   "cell_type": "markdown",
   "metadata": {},
   "source": [
    "pra garantir q isso nao aconteça e a gente gere uma lista nova toda vez:"
   ]
  },
  {
   "cell_type": "code",
   "execution_count": null,
   "metadata": {},
   "outputs": [],
   "source": [
    "\n",
    "def lista_sus(lista = None):\n",
    "    if lista is None:\n",
    "        lista = list()\n",
    "    print(len(lista))\n",
    "    lista.append('nani?!')\n",
    "\n",
    "lista_sus()\n",
    "lista_sus()\n",
    "lista_sus()"
   ]
  },
  {
   "attachments": {},
   "cell_type": "markdown",
   "metadata": {},
   "source": [
    "o problema da mutabilidade é que quando nos passamos um objeto mutavel como parametro de uma função (tipo uma lista) se a gente nao souber como foi implementada pode ser que o nosso objeto volte alterado de uma forma q a gente nao queria\n"
   ]
  },
  {
   "attachments": {},
   "cell_type": "markdown",
   "metadata": {},
   "source": [
    "**Importante** sobre como encontramos a mutabilidade de listas no dia a dia, temos que escolher por exemplo:"
   ]
  },
  {
   "cell_type": "code",
   "execution_count": null,
   "metadata": {},
   "outputs": [],
   "source": [
    "lista = [9, 5, 1, 5, 6, 3]\n",
    "\n",
    "sorted(lista) # retorna uma lista ordenada nova sem alterar a original\n",
    "lista.sort() # ordena a lista original e não retorna nada"
   ]
  },
  {
   "attachments": {},
   "cell_type": "markdown",
   "metadata": {},
   "source": [
    "ja strings diferente de listas nao tem nenhum metodo que altera elas diretamente, só metodos que retornam strings novas"
   ]
  },
  {
   "attachments": {},
   "cell_type": "markdown",
   "metadata": {},
   "source": [
    "\n",
    "## TUPLAS\n",
    "a principal difrença entre tuplas e listas é que as tuplas são \"constantes\", da pra acessar elas mas nao da pra mudar o valor delas diretamente e elas nao tem funções"
   ]
  },
  {
   "cell_type": "code",
   "execution_count": null,
   "metadata": {},
   "outputs": [],
   "source": [
    "tuplinha = ('oi', 69)\n",
    "# tuplinha[0] = 'tchau' # da erro\n",
    "\n",
    "# pra alterar o valor de uma tupla fazemos tipo\n",
    "def alterarvalor(tupla):\n",
    "    return (tupla[0], 420)\n",
    "\n",
    "tuplinha = alterarvalor(tuplinha)\n",
    "tuplinha #fazer isso faz igual no console do python q printa"
   ]
  },
  {
   "attachments": {},
   "cell_type": "markdown",
   "metadata": {},
   "source": [
    "### boas praticas com tuplas e listas\n",
    "usar listas como *\"arrays\"*, tentar manter o mesmo tipo de dado pra ficar mais facil de iterar, usam paradigma **POO**\n",
    "usar tuplas quando a posição de cada valor tiver um proprio significado, se estivessemos em **POO** seria melhor criar uma classe, mas usando tuplas é programar num paradigma **FUNCIONAL**"
   ]
  },
  {
   "attachments": {},
   "cell_type": "markdown",
   "metadata": {},
   "source": [
    "**EXCEÇÂO** nao da pra mudar elementos da tupla diretamente, mas da pra acessar metodos de objetos dentro da tupla que mudem valores"
   ]
  },
  {
   "cell_type": "code",
   "execution_count": null,
   "metadata": {},
   "outputs": [],
   "source": [
    "tuplona = (['uma', 'lista'], 'uma string')\n",
    "tuplona[0].append('muito fofa uwu')\n",
    "\n",
    "tuplona"
   ]
  },
  {
   "attachments": {},
   "cell_type": "markdown",
   "metadata": {},
   "source": [
    "Uma lista de tuplas pode ser \"desempacotada\" facilmente, até na incialização de um for, esquema mó bom"
   ]
  },
  {
   "cell_type": "code",
   "execution_count": null,
   "metadata": {},
   "outputs": [],
   "source": [
    "lista = ['eu', 'sou', 'uma', 'lista', 'mto', 'chique']\n",
    "enumerados = list(enumerate(lista)) \n",
    "\n",
    "indice, elem = enumerados[3]\n",
    "print(indice)\n",
    "print(elem)"
   ]
  },
  {
   "attachments": {},
   "cell_type": "markdown",
   "metadata": {},
   "source": [
    "o `enumerate()` transforma a lista em uma lista de tuplas com o indice e o conteudo\n",
    "tem que ser o construtor list, só criar o objeto ou usar [] nao funciona pq ele nao gera a lista, comportamento lazy, mema coisa vale pro range()\n",
    "\n",
    "no for:"
   ]
  },
  {
   "cell_type": "code",
   "execution_count": null,
   "metadata": {},
   "outputs": [],
   "source": [
    "for indice, elem in enumerados:\n",
    "    print(f'[{indice}] -> {elem}')"
   ]
  },
  {
   "attachments": {},
   "cell_type": "markdown",
   "metadata": {},
   "source": [
    "se quiser usar ó uma das posiçoes da tupla no for da pra fazer tipo `for _, elem in enumerados` mas é mais legal deixar tudo explicito pra legibilidade"
   ]
  },
  {
   "attachments": {},
   "cell_type": "markdown",
   "metadata": {},
   "source": [
    "## ARRAY\n",
    "não usamos array mto no python pq listas e tuplas ja servem pro dia a dia, so serve se for pra fazer um bagulho muito otimizado"
   ]
  },
  {
   "cell_type": "code",
   "execution_count": 24,
   "metadata": {},
   "outputs": [
    {
     "data": {
      "text/plain": [
       "array('i', [9, 44, 2, 84])"
      ]
     },
     "execution_count": 24,
     "metadata": {},
     "output_type": "execute_result"
    }
   ],
   "source": [
    "from array import array # objeto array built in do python\n",
    "\n",
    "array('i', [9, 44, 2, 84]) \n",
    "# tem que especificar o tipo de dado pro array com um char, tem todos os tipos na documentação vao de unsigned char até doubla"
   ]
  },
  {
   "cell_type": "code",
   "execution_count": null,
   "metadata": {},
   "outputs": [],
   "source": [
    "from numpy import array # no numpy é uma função nao um obj\n",
    "\n",
    "arr = array([20, 2.3])\n",
    "\n",
    "arr + 10"
   ]
  },
  {
   "attachments": {},
   "cell_type": "markdown",
   "metadata": {},
   "source": [
    "numpy vale mais a pena pra usar arrays do que o modo built in, tem mto mais metodos e é mais facil e flexivel"
   ]
  },
  {
   "attachments": {},
   "cell_type": "markdown",
   "metadata": {},
   "source": [
    "## Sets\n",
    "teoria dos conjuntos lets gooo"
   ]
  },
  {
   "cell_type": "code",
   "execution_count": null,
   "metadata": {},
   "outputs": [],
   "source": [
    "lista1 = ['a', 'b', 'c', 'd']\n",
    "lista2 = ['c', 'd', 'e', 'f']\n",
    "lista1.extend(lista2)\n",
    "lista1"
   ]
  },
  {
   "attachments": {},
   "cell_type": "markdown",
   "metadata": {},
   "source": [
    "metodo `extend()` de listas junta duas listas em uma só, mas n liga pra repetições, ai vem o brabo tipo `set()` que transforma uma lista num conjunto matematico msm"
   ]
  },
  {
   "cell_type": "code",
   "execution_count": null,
   "metadata": {},
   "outputs": [],
   "source": [
    "set(lista1)"
   ]
  },
  {
   "attachments": {},
   "cell_type": "markdown",
   "metadata": {},
   "source": [
    "tambem da pra declarar cojunt direto com chaves igual lista e tupla\n"
   ]
  },
  {
   "cell_type": "code",
   "execution_count": null,
   "metadata": {},
   "outputs": [],
   "source": [
    "conj1 = {1, 2, 3}\n",
    "conj2 = {1, 3, 9, 10}"
   ]
  },
  {
   "attachments": {},
   "cell_type": "markdown",
   "metadata": {},
   "source": [
    "conjuntos são iteraveis com `for` MAS não tem indices como uma lista\n",
    "\n",
    "da pra usar operações de teoria dos conjuntos neles direto e eles retornam outros conjuntos:"
   ]
  },
  {
   "cell_type": "code",
   "execution_count": null,
   "metadata": {},
   "outputs": [],
   "source": [
    "conj1 | conj2 # união"
   ]
  },
  {
   "cell_type": "code",
   "execution_count": null,
   "metadata": {},
   "outputs": [],
   "source": [
    "conj1 & conj2 # intersecção"
   ]
  },
  {
   "cell_type": "code",
   "execution_count": null,
   "metadata": {},
   "outputs": [],
   "source": [
    "conj1 - conj2 # diferença: elementos de conj1 que não estão em conj2 "
   ]
  },
  {
   "cell_type": "code",
   "execution_count": null,
   "metadata": {},
   "outputs": [],
   "source": [
    "conj1 ^ conj2 # ou exclusivo: negação da interseção"
   ]
  },
  {
   "cell_type": "code",
   "execution_count": null,
   "metadata": {},
   "outputs": [],
   "source": [
    "10 in conj2 # está contido em"
   ]
  },
  {
   "attachments": {},
   "cell_type": "markdown",
   "metadata": {},
   "source": [
    "métodos de conjuntos:"
   ]
  },
  {
   "cell_type": "code",
   "execution_count": null,
   "metadata": {},
   "outputs": [],
   "source": [
    "conj1.add(5) #adiciona elemento\n",
    "conj2fixo = frozenset(conj2) #cria um conjunto imutavel"
   ]
  },
  {
   "attachments": {},
   "cell_type": "markdown",
   "metadata": {},
   "source": [
    "## DICIONARIO"
   ]
  },
  {
   "attachments": {},
   "cell_type": "markdown",
   "metadata": {},
   "source": [
    "Tipos de dict"
   ]
  },
  {
   "cell_type": "code",
   "execution_count": null,
   "metadata": {},
   "outputs": [],
   "source": [
    "# dict padrao\n",
    "texto = 'um texto com muitas palavras uau varias palavras quantas palavras sera que tem nesse um texto uau uau uau'\n",
    "\n",
    "histograma = dict()\n",
    "\n",
    "for palavra in texto.split():\n",
    "    count = histograma.get(palavra, 0) \n",
    "    histograma[palavra] = count + 1\n",
    "    # se tem a palavra mostra quantas vezes apareceu, senao quer dizer que tem zero e nos vamos botar no dict\n",
    "\n",
    "histograma"
   ]
  },
  {
   "attachments": {},
   "cell_type": "markdown",
   "metadata": {},
   "source": [
    "### default dict\n",
    "\n",
    "nesse dict o tipo do valor é predefinido, no caso `int`. Se vc pega um indice que não existe ele ja retorna 0 por padrão"
   ]
  },
  {
   "cell_type": "code",
   "execution_count": null,
   "metadata": {},
   "outputs": [],
   "source": [
    "from collections import defaultdict\n",
    "\n",
    "histograma = defaultdict(int)\n",
    "\n",
    "texto = 'um texto com muitas palavras uau varias palavras quantas palavras sera que tem nesse um texto uau uau uau'\n",
    "\n",
    "for palavra in texto.split():\n",
    "    histograma[palavra] += 1\n",
    "\n",
    "histograma"
   ]
  },
  {
   "attachments": {},
   "cell_type": "markdown",
   "metadata": {},
   "source": [
    "isso é muito util pra fazer um dict de objetos que vao se auto instanciando"
   ]
  },
  {
   "cell_type": "code",
   "execution_count": null,
   "metadata": {},
   "outputs": [],
   "source": [
    "class Objetinho:\n",
    "    def __init__(self) -> None:\n",
    "        print('yo acabei de nascer')\n",
    "\n",
    "obj_dict = defaultdict(Objetinho)\n",
    "\n",
    "obj_dict['chave1']\n",
    "obj_dict['chave5']\n",
    "obj_dict['chave10']\n",
    "obj_dict['chave1']"
   ]
  },
  {
   "attachments": {},
   "cell_type": "markdown",
   "metadata": {},
   "source": [
    "### counter\n",
    "o dicionario chad dos histogramas"
   ]
  },
  {
   "cell_type": "code",
   "execution_count": null,
   "metadata": {},
   "outputs": [],
   "source": [
    "from collections import Counter\n",
    "\n",
    "texto = 'um texto com muitas palavras uau varias palavras quantas palavras sera que tem nesse um texto uau uau uau'\n",
    "\n",
    "#tem valor padraão zero e recebe um iteravel como parametro\n",
    "histograma = Counter(texto.split()) \n",
    "histograma # insta histobrama baybeee"
   ]
  },
  {
   "attachments": {},
   "cell_type": "markdown",
   "metadata": {},
   "source": [
    "por isso é importante conhecer coleções da linguagem coisas que davam um trabalhinho em tipo uma linha muito poggers\n",
    "\n",
    "mais um uso legal for fun:"
   ]
  },
  {
   "cell_type": "code",
   "execution_count": null,
   "metadata": {},
   "outputs": [],
   "source": [
    "texto = 'um texto com muitas palavras uau varias palavras quantas palavras sera que tem nesse um texto uau uau uau'\n",
    "\n",
    "Counter(texto) # contando todas as letras"
   ]
  },
  {
   "cell_type": "code",
   "execution_count": null,
   "metadata": {},
   "outputs": [],
   "source": [
    "total = sum(Counter(texto).values()) # soma todas as letras!\n",
    "print(total)"
   ]
  },
  {
   "cell_type": "code",
   "execution_count": null,
   "metadata": {},
   "outputs": [],
   "source": [
    "# itens() passa o dict pra uma lista de tuplas com chave e valor\n",
    "for letra, frequencia in sorted(Counter(texto).items()): \n",
    "    print(f'- {letra} => {int(frequencia/total*100)}%') \n",
    "    # mostra a porcentagem de aparição de cada letra!"
   ]
  },
  {
   "cell_type": "code",
   "execution_count": null,
   "metadata": {},
   "outputs": [],
   "source": [
    "#ordenando pelo lado direito decrescente em uma lista de tuplas!\n",
    "lista_de_tuplas_frequencia = [(letra, frequencia/total)for letra, frequencia in Counter(texto).items()]\n",
    "\n",
    "#botando de volta num counter que tem o metodo pra isso!\n",
    "Counter(dict(lista_de_tuplas_frequencia)).most_common(10)"
   ]
  }
 ],
 "metadata": {
  "kernelspec": {
   "display_name": "Python 3",
   "language": "python",
   "name": "python3"
  },
  "language_info": {
   "codemirror_mode": {
    "name": "ipython",
    "version": 3
   },
   "file_extension": ".py",
   "mimetype": "text/x-python",
   "name": "python",
   "nbconvert_exporter": "python",
   "pygments_lexer": "ipython3",
   "version": "3.9.4"
  },
  "orig_nbformat": 4,
  "vscode": {
   "interpreter": {
    "hash": "11938c6bc6919ae2720b4d5011047913343b08a43b18698fd82dedb0d4417594"
   }
  }
 },
 "nbformat": 4,
 "nbformat_minor": 2
}
