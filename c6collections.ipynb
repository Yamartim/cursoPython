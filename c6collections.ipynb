{
 "cells": [
  {
   "attachments": {},
   "cell_type": "markdown",
   "metadata": {},
   "source": [
    "# Coleções python\n",
    "[Listas], (tuplas), sets, {dicts}"
   ]
  },
  {
   "attachments": {},
   "cell_type": "markdown",
   "metadata": {},
   "source": [
    "## problema de mutabilidade de listas\n",
    "\n",
    "se vc nao passar um parametro o parametro padrao vai ser criado e cacheado fazendo a lista crescer toda vez q vc chama a função"
   ]
  },
  {
   "cell_type": "code",
   "execution_count": null,
   "metadata": {},
   "outputs": [],
   "source": [
    "def lista_sus(lista = []):\n",
    "    print(len(lista))\n",
    "    lista.append('nani?!')\n",
    "\n",
    "lista_sus()\n",
    "lista_sus()\n",
    "lista_sus()"
   ]
  },
  {
   "attachments": {},
   "cell_type": "markdown",
   "metadata": {},
   "source": [
    "pra garantir q isso nao aconteça e a gente gere uma lista nova toda vez:"
   ]
  },
  {
   "cell_type": "code",
   "execution_count": null,
   "metadata": {},
   "outputs": [],
   "source": [
    "\n",
    "def lista_sus(lista = None):\n",
    "    if lista is None:\n",
    "        lista = list()\n",
    "    print(len(lista))\n",
    "    lista.append('nani?!')\n",
    "\n",
    "lista_sus()\n",
    "lista_sus()\n",
    "lista_sus()"
   ]
  },
  {
   "attachments": {},
   "cell_type": "markdown",
   "metadata": {},
   "source": [
    "o problema da mutabilidade é que quando nos passamos um objeto mutavel como parametro de uma função (tipo uma lista) se a gente nao souber como foi implementada pode ser que o nosso objeto volte alterado de uma forma q a gente nao queria\n"
   ]
  },
  {
   "attachments": {},
   "cell_type": "markdown",
   "metadata": {},
   "source": [
    "**Importante** sobre como encontramos a mutabilidade de listas no dia a dia, temos que escolher por exemplo:"
   ]
  },
  {
   "cell_type": "code",
   "execution_count": null,
   "metadata": {},
   "outputs": [],
   "source": [
    "lista = [9, 5, 1, 5, 6, 3]\n",
    "\n",
    "sorted(lista) # retorna uma lista ordenada nova sem alterar a original\n",
    "lista.sort() # ordena a lista original e não retorna nada"
   ]
  },
  {
   "attachments": {},
   "cell_type": "markdown",
   "metadata": {},
   "source": [
    "ja strings diferente de listas nao tem nenhum metodo que altera elas diretamente, só metodos que retornam strings novas"
   ]
  },
  {
   "attachments": {},
   "cell_type": "markdown",
   "metadata": {},
   "source": [
    "\n",
    "## TUPLAS\n",
    "a principal difrença entre tuplas e listas é que as tuplas são \"constantes\", da pra acessar elas mas nao da pra mudar o valor delas diretamente e elas nao tem funções"
   ]
  },
  {
   "cell_type": "code",
   "execution_count": 4,
   "metadata": {},
   "outputs": [
    {
     "data": {
      "text/plain": [
       "('oi', 420)"
      ]
     },
     "execution_count": 4,
     "metadata": {},
     "output_type": "execute_result"
    }
   ],
   "source": [
    "tuplinha = ('oi', 69)\n",
    "# tuplinha[0] = 'tchau' # da erro\n",
    "\n",
    "# pra alterar o valor de uma tupla fazemos tipo\n",
    "def alterarvalor(tupla):\n",
    "    return (tupla[0], 420)\n",
    "\n",
    "tuplinha = alterarvalor(tuplinha)\n",
    "tuplinha #fazer isso faz igual no console do python q printa"
   ]
  },
  {
   "attachments": {},
   "cell_type": "markdown",
   "metadata": {},
   "source": [
    "### boas praticas com tuplas e listas\n",
    "usar listas como *\"arrays\"*, tentar manter o mesmo tipo de dado pra ficar mais facil de iterar, usam paradigma **POO**\n",
    "usar tuplas quando a posição de cada valor tiver um proprio significado, se estivessemos em **POO** seria melhor criar uma classe, mas usando tuplas é programar num paradigma **FUNCIONAL**"
   ]
  },
  {
   "attachments": {},
   "cell_type": "markdown",
   "metadata": {},
   "source": [
    "**EXCEÇÂO** nao da pra mudar elementos da tupla diretamente, mas da pra acessar metodos de objetos dentro da tupla que mudem valores"
   ]
  },
  {
   "cell_type": "code",
   "execution_count": 6,
   "metadata": {},
   "outputs": [
    {
     "data": {
      "text/plain": [
       "(['uma', 'lista', 'muito fofa uwu'], 'uma string')"
      ]
     },
     "execution_count": 6,
     "metadata": {},
     "output_type": "execute_result"
    }
   ],
   "source": [
    "tuplona = (['uma', 'lista'], 'uma string')\n",
    "tuplona[0].append('muito fofa uwu')\n",
    "\n",
    "tuplona"
   ]
  },
  {
   "attachments": {},
   "cell_type": "markdown",
   "metadata": {},
   "source": [
    "Uma lista de tuplas pode ser \"desempacotada\" facilmente, até na incialização de um for, esquema mó bom"
   ]
  },
  {
   "cell_type": "code",
   "execution_count": 15,
   "metadata": {},
   "outputs": [
    {
     "data": {
      "text/plain": [
       "'lista'"
      ]
     },
     "execution_count": 15,
     "metadata": {},
     "output_type": "execute_result"
    }
   ],
   "source": [
    "lista = ['eu', 'sou', 'uma', 'lista', 'mto', 'chique']\n",
    "enumerados = list(enumerate(lista)) \n",
    "\n",
    "indice, elem = enumerados[3]\n",
    "print(indice)\n",
    "print(elem)"
   ]
  },
  {
   "attachments": {},
   "cell_type": "markdown",
   "metadata": {},
   "source": [
    "o `enumerate()` transforma a lista em uma lista de tuplas com o indice e o conteudo\n",
    "tem que ser o construtor list, só criar o objeto ou usar [] nao funciona pq ele nao gera a lista, comportamento lazy, mema coisa vale pro range()\n",
    "\n",
    "no for:"
   ]
  },
  {
   "cell_type": "code",
   "execution_count": 17,
   "metadata": {},
   "outputs": [
    {
     "name": "stdout",
     "output_type": "stream",
     "text": [
      "[0] -> eu\n",
      "[1] -> sou\n",
      "[2] -> uma\n",
      "[3] -> lista\n",
      "[4] -> mto\n",
      "[5] -> chique\n"
     ]
    }
   ],
   "source": [
    "for indice, elem in enumerados:\n",
    "    print(f'[{indice}] -> {elem}')"
   ]
  },
  {
   "attachments": {},
   "cell_type": "markdown",
   "metadata": {},
   "source": [
    "se quiser usar ó uma das posiçoes da tupla no for da pra fazer tipo `for _, elem in enumerados` mas é mais legal deixar tudo explicito pra legibilidade"
   ]
  },
  {
   "attachments": {},
   "cell_type": "markdown",
   "metadata": {},
   "source": [
    "## ARRAY\n",
    "não usamos array mto no python pq listas e tuplas ja servem pro dia a dia, so serve se for pra fazer um bagulho muito otimizado"
   ]
  },
  {
   "cell_type": "code",
   "execution_count": null,
   "metadata": {},
   "outputs": [],
   "source": [
    "from array import array # objeto array built in do python\n",
    "\n",
    "array('i', [9, 44, 2, 84]) \n",
    "# tem que especificar o tipo de dado pro array com um char, tem todos os tipos na documentação vao de unsigned char até doubla"
   ]
  },
  {
   "cell_type": "code",
   "execution_count": 7,
   "metadata": {},
   "outputs": [
    {
     "data": {
      "text/plain": [
       "array([30. , 12.3])"
      ]
     },
     "execution_count": 7,
     "metadata": {},
     "output_type": "execute_result"
    }
   ],
   "source": [
    "from numpy import array # no numpy é uma função nao um obj\n",
    "\n",
    "arr = array([20, 2.3])\n",
    "\n",
    "arr + 10"
   ]
  },
  {
   "attachments": {},
   "cell_type": "markdown",
   "metadata": {},
   "source": [
    "numpy vale mais a pena pra usar arrays do que o modo built in, tem mto mais metodos e é mais facil e flexivel"
   ]
  }
 ],
 "metadata": {
  "kernelspec": {
   "display_name": "Python 3",
   "language": "python",
   "name": "python3"
  },
  "language_info": {
   "codemirror_mode": {
    "name": "ipython",
    "version": 3
   },
   "file_extension": ".py",
   "mimetype": "text/x-python",
   "name": "python",
   "nbconvert_exporter": "python",
   "pygments_lexer": "ipython3",
   "version": "3.9.4"
  },
  "orig_nbformat": 4,
  "vscode": {
   "interpreter": {
    "hash": "11938c6bc6919ae2720b4d5011047913343b08a43b18698fd82dedb0d4417594"
   }
  }
 },
 "nbformat": 4,
 "nbformat_minor": 2
}
